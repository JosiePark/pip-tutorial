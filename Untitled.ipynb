{
 "cells": [
  {
   "cell_type": "code",
   "execution_count": 1,
   "id": "4a16d788",
   "metadata": {},
   "outputs": [],
   "source": [
    "import pipTutorial.funcs"
   ]
  },
  {
   "cell_type": "code",
   "execution_count": 2,
   "id": "0a56f89a",
   "metadata": {},
   "outputs": [
    {
     "data": {
      "text/plain": [
       "'hello cat'"
      ]
     },
     "execution_count": 2,
     "metadata": {},
     "output_type": "execute_result"
    }
   ],
   "source": [
    "pipTutorial.funcs.hello_world()"
   ]
  },
  {
   "cell_type": "code",
   "execution_count": null,
   "id": "46ff9928",
   "metadata": {},
   "outputs": [],
   "source": []
  }
 ],
 "metadata": {
  "kernelspec": {
   "display_name": "Python 3 (ipykernel)",
   "language": "python",
   "name": "python3"
  },
  "language_info": {
   "codemirror_mode": {
    "name": "ipython",
    "version": 3
   },
   "file_extension": ".py",
   "mimetype": "text/x-python",
   "name": "python",
   "nbconvert_exporter": "python",
   "pygments_lexer": "ipython3",
   "version": "3.8.15"
  }
 },
 "nbformat": 4,
 "nbformat_minor": 5
}
